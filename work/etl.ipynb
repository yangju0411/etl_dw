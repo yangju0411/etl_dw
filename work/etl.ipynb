{
 "cells": [
  {
   "cell_type": "markdown",
   "metadata": {},
   "source": [
    "# DB 연결"
   ]
  },
  {
   "cell_type": "code",
   "execution_count": 1,
   "metadata": {},
   "outputs": [],
   "source": [
    "import psycopg"
   ]
  },
  {
   "cell_type": "code",
   "execution_count": 2,
   "metadata": {},
   "outputs": [],
   "source": [
    "dbname = 'postgres'\n",
    "user = 'postgres'\n",
    "password = 'mysecretpassword'\n",
    "host = '192.168.56.11'\n",
    "port = 30080"
   ]
  },
  {
   "cell_type": "code",
   "execution_count": 3,
   "metadata": {},
   "outputs": [],
   "source": [
    "conn = psycopg.connect(dbname = dbname, user = user,\n",
    "                        password = password, host = host, port = port)"
   ]
  },
  {
   "cell_type": "markdown",
   "metadata": {},
   "source": [
    "postgresql과 연결을 위해 psycopg를 사용합니다."
   ]
  },
  {
   "cell_type": "markdown",
   "metadata": {},
   "source": [
    "# 로우 데이터 처리 "
   ]
  },
  {
   "cell_type": "code",
   "execution_count": 4,
   "metadata": {},
   "outputs": [],
   "source": [
    "import re\n",
    "import pandas as pd"
   ]
  },
  {
   "cell_type": "code",
   "execution_count": 5,
   "metadata": {},
   "outputs": [],
   "source": [
    "path = \"data/access_970411.log\""
   ]
  },
  {
   "cell_type": "code",
   "execution_count": 6,
   "metadata": {},
   "outputs": [],
   "source": [
    "pattern = re.compile('(?P<host>\\S+) - - \\[(?P<time>.*)\\] \"(?P<method>.*) (?P<contents>.*)\" (?P<status>\\d+) (?P<size>\\d+) \"(?P<ua>.*)\"')"
   ]
  },
  {
   "cell_type": "markdown",
   "metadata": {},
   "source": [
    "정규 표현식을 이용해 로우 데이터를 컬럼 별로 구분하여 데이터프레임에 적재합니다."
   ]
  },
  {
   "cell_type": "code",
   "execution_count": 7,
   "metadata": {},
   "outputs": [],
   "source": [
    "def parse_access_log(path):\n",
    "    for line in open(path, 'rb'):\n",
    "        line = line.decode(encoding='ascii', errors='ignore')\n",
    "        for m in pattern.finditer(line):\n",
    "            yield m.groups()"
   ]
  },
  {
   "cell_type": "code",
   "execution_count": 8,
   "metadata": {},
   "outputs": [],
   "source": [
    "columns = [\"host\", 'time', 'method', 'contents', 'status', 'size', 'ua']"
   ]
  },
  {
   "cell_type": "code",
   "execution_count": 9,
   "metadata": {},
   "outputs": [],
   "source": [
    "log_raw = pd.DataFrame(parse_access_log(path), columns = columns)"
   ]
  },
  {
   "cell_type": "code",
   "execution_count": 10,
   "metadata": {},
   "outputs": [
    {
     "data": {
      "text/html": [
       "<div>\n",
       "<style scoped>\n",
       "    .dataframe tbody tr th:only-of-type {\n",
       "        vertical-align: middle;\n",
       "    }\n",
       "\n",
       "    .dataframe tbody tr th {\n",
       "        vertical-align: top;\n",
       "    }\n",
       "\n",
       "    .dataframe thead th {\n",
       "        text-align: right;\n",
       "    }\n",
       "</style>\n",
       "<table border=\"1\" class=\"dataframe\">\n",
       "  <thead>\n",
       "    <tr style=\"text-align: right;\">\n",
       "      <th></th>\n",
       "      <th>host</th>\n",
       "      <th>time</th>\n",
       "      <th>method</th>\n",
       "      <th>contents</th>\n",
       "      <th>status</th>\n",
       "      <th>size</th>\n",
       "      <th>ua</th>\n",
       "    </tr>\n",
       "  </thead>\n",
       "  <tbody>\n",
       "    <tr>\n",
       "      <th>0</th>\n",
       "      <td>8.136.30.91</td>\n",
       "      <td>1997-04-11 00:00:00</td>\n",
       "      <td>GET</td>\n",
       "      <td>/m/c.html</td>\n",
       "      <td>200</td>\n",
       "      <td>743</td>\n",
       "      <td>Opera/8.61.(Windows NT 5.1; af-ZA) Presto/2.9....</td>\n",
       "    </tr>\n",
       "    <tr>\n",
       "      <th>1</th>\n",
       "      <td>50.227.78.16</td>\n",
       "      <td>1997-04-11 00:00:01</td>\n",
       "      <td>GET</td>\n",
       "      <td>/a/i.mp4</td>\n",
       "      <td>200</td>\n",
       "      <td>1705</td>\n",
       "      <td>Opera/9.25.(X11; Linux x86_64; brx-IN) Presto/...</td>\n",
       "    </tr>\n",
       "    <tr>\n",
       "      <th>2</th>\n",
       "      <td>205.41.123.39</td>\n",
       "      <td>1997-04-11 00:00:02</td>\n",
       "      <td>GET</td>\n",
       "      <td>/d/b.html</td>\n",
       "      <td>200</td>\n",
       "      <td>291</td>\n",
       "      <td>Mozilla/5.0 (Macintosh; PPC Mac OS X 10_11_8 r...</td>\n",
       "    </tr>\n",
       "    <tr>\n",
       "      <th>3</th>\n",
       "      <td>69.255.196.161</td>\n",
       "      <td>1997-04-11 00:00:03</td>\n",
       "      <td>GET</td>\n",
       "      <td>/z/c/g.mp4</td>\n",
       "      <td>200</td>\n",
       "      <td>6389</td>\n",
       "      <td>Mozilla/5.0 (Windows 98; nhn-MX; rv:1.9.1.20) ...</td>\n",
       "    </tr>\n",
       "    <tr>\n",
       "      <th>4</th>\n",
       "      <td>213.189.137.77</td>\n",
       "      <td>1997-04-11 00:00:04</td>\n",
       "      <td>GET</td>\n",
       "      <td>/k/b.html</td>\n",
       "      <td>200</td>\n",
       "      <td>3900</td>\n",
       "      <td>Mozilla/5.0 (compatible; MSIE 8.0; Windows NT ...</td>\n",
       "    </tr>\n",
       "  </tbody>\n",
       "</table>\n",
       "</div>"
      ],
      "text/plain": [
       "             host                 time method    contents status  size  \\\n",
       "0     8.136.30.91  1997-04-11 00:00:00    GET   /m/c.html    200   743   \n",
       "1    50.227.78.16  1997-04-11 00:00:01    GET    /a/i.mp4    200  1705   \n",
       "2   205.41.123.39  1997-04-11 00:00:02    GET   /d/b.html    200   291   \n",
       "3  69.255.196.161  1997-04-11 00:00:03    GET  /z/c/g.mp4    200  6389   \n",
       "4  213.189.137.77  1997-04-11 00:00:04    GET   /k/b.html    200  3900   \n",
       "\n",
       "                                                  ua  \n",
       "0  Opera/8.61.(Windows NT 5.1; af-ZA) Presto/2.9....  \n",
       "1  Opera/9.25.(X11; Linux x86_64; brx-IN) Presto/...  \n",
       "2  Mozilla/5.0 (Macintosh; PPC Mac OS X 10_11_8 r...  \n",
       "3  Mozilla/5.0 (Windows 98; nhn-MX; rv:1.9.1.20) ...  \n",
       "4  Mozilla/5.0 (compatible; MSIE 8.0; Windows NT ...  "
      ]
     },
     "execution_count": 10,
     "metadata": {},
     "output_type": "execute_result"
    }
   ],
   "source": [
    "log_raw.head()"
   ]
  },
  {
   "cell_type": "code",
   "execution_count": 11,
   "metadata": {},
   "outputs": [],
   "source": [
    "visit_df = log_raw[[\"method\", \"status\", \"size\"]].copy()"
   ]
  },
  {
   "cell_type": "markdown",
   "metadata": {},
   "source": [
    "팩트 테이블인 visit 테이블에 삽입할 데이터프레임을 만들어줍니다. \n",
    "\n",
    "method, status, size 이외의 데이터는 외래키로 디멘션 테이블의 데이터들을 참조하면서 생성해줍니다."
   ]
  },
  {
   "cell_type": "markdown",
   "metadata": {},
   "source": [
    "# CLIENT "
   ]
  },
  {
   "cell_type": "code",
   "execution_count": 12,
   "metadata": {},
   "outputs": [],
   "source": [
    "with conn.cursor() as cur:\n",
    "    try:\n",
    "        cur.execute(\"CREATE TEMPORARY TABLE tmp_client (id int, host varchar(255)) ON COMMIT DROP\")\n",
    "        with cur.copy(\"COPY tmp_client FROM STDIN\") as copy:\n",
    "            for i, data in enumerate(log_raw[\"host\"]):\n",
    "                copy.write_row((i, data))\n",
    "        cur.execute(\"INSERT INTO client(host) SELECT host FROM tmp_client ON CONFLICT DO NOTHING\")\n",
    "    except BaseException:\n",
    "        conn.rollback()\n",
    "    else:\n",
    "        conn.commit()"
   ]
  },
  {
   "cell_type": "markdown",
   "metadata": {},
   "source": [
    "copy는 중복 데이터를 걸러낼 수 없기 때문에 임시 테이블에 데이터를 copy하고 임시 테이블을 읽어 client 테이블에 삽입합니다. 이렇게 하면 copy의 속도도 잡고 중복 처리도 할 수 있어 편리합니다."
   ]
  },
  {
   "cell_type": "code",
   "execution_count": 13,
   "metadata": {},
   "outputs": [],
   "source": [
    "with conn.cursor() as cur:\n",
    "    cur.execute(\"select * from client\")\n",
    "    client_dict = {key : value for value, key in cur.fetchall()}\n",
    "    visit_df[\"client_key\"] = log_raw[\"host\"].map(lambda x: client_dict[x])"
   ]
  },
  {
   "cell_type": "code",
   "execution_count": 14,
   "metadata": {},
   "outputs": [
    {
     "data": {
      "text/html": [
       "<div>\n",
       "<style scoped>\n",
       "    .dataframe tbody tr th:only-of-type {\n",
       "        vertical-align: middle;\n",
       "    }\n",
       "\n",
       "    .dataframe tbody tr th {\n",
       "        vertical-align: top;\n",
       "    }\n",
       "\n",
       "    .dataframe thead th {\n",
       "        text-align: right;\n",
       "    }\n",
       "</style>\n",
       "<table border=\"1\" class=\"dataframe\">\n",
       "  <thead>\n",
       "    <tr style=\"text-align: right;\">\n",
       "      <th></th>\n",
       "      <th>method</th>\n",
       "      <th>status</th>\n",
       "      <th>size</th>\n",
       "      <th>client_key</th>\n",
       "    </tr>\n",
       "  </thead>\n",
       "  <tbody>\n",
       "    <tr>\n",
       "      <th>0</th>\n",
       "      <td>GET</td>\n",
       "      <td>200</td>\n",
       "      <td>743</td>\n",
       "      <td>1</td>\n",
       "    </tr>\n",
       "    <tr>\n",
       "      <th>1</th>\n",
       "      <td>GET</td>\n",
       "      <td>200</td>\n",
       "      <td>1705</td>\n",
       "      <td>2</td>\n",
       "    </tr>\n",
       "    <tr>\n",
       "      <th>2</th>\n",
       "      <td>GET</td>\n",
       "      <td>200</td>\n",
       "      <td>291</td>\n",
       "      <td>3</td>\n",
       "    </tr>\n",
       "    <tr>\n",
       "      <th>3</th>\n",
       "      <td>GET</td>\n",
       "      <td>200</td>\n",
       "      <td>6389</td>\n",
       "      <td>4</td>\n",
       "    </tr>\n",
       "    <tr>\n",
       "      <th>4</th>\n",
       "      <td>GET</td>\n",
       "      <td>200</td>\n",
       "      <td>3900</td>\n",
       "      <td>5</td>\n",
       "    </tr>\n",
       "  </tbody>\n",
       "</table>\n",
       "</div>"
      ],
      "text/plain": [
       "  method status  size  client_key\n",
       "0    GET    200   743           1\n",
       "1    GET    200  1705           2\n",
       "2    GET    200   291           3\n",
       "3    GET    200  6389           4\n",
       "4    GET    200  3900           5"
      ]
     },
     "execution_count": 14,
     "metadata": {},
     "output_type": "execute_result"
    }
   ],
   "source": [
    "visit_df.head()"
   ]
  },
  {
   "cell_type": "markdown",
   "metadata": {},
   "source": [
    "현재 로우 데이터의 host 값에서 디멘션 테이블의 키를 얻어와 visit 테이블에 적용해야 하기 때문에 디멘션 테이블을 읽어와 host 값을 key로 디멘션 테이블의 pk를 값으로 하는 딕셔너리를 구성해줍니다.\n",
    "\n",
    "그 후 일괄로 visit 데이터프레임에 적용하여 외래키를 채워줍니다. 이런 방식을 택한 이유는 디멘션 테이블을 조인하며 insert하면 db의 부담도 커지고 매우 느리기 때문입니다. 카디널리티가 작은 디멘션 테이블의 정보를 파이썬에 불러와 처리해주고 visit 데이터프레임을 copy해버리면 join과 insert를 병행하는 것은 비교가 되지 않을만큼 빠른 속도로 데이터를 적재할 수 있습니다.\n",
    "\n",
    "아래 디멘션 테이블들도 동일하게 처리합니다."
   ]
  },
  {
   "cell_type": "markdown",
   "metadata": {},
   "source": [
    "# CONTENTS"
   ]
  },
  {
   "cell_type": "code",
   "execution_count": 15,
   "metadata": {},
   "outputs": [],
   "source": [
    "with conn.cursor() as cur:\n",
    "    try:\n",
    "        cur.execute(\"CREATE TEMPORARY TABLE tmp_contents (id int, path varchar(65532)) ON COMMIT DROP\")\n",
    "        with cur.copy(\"COPY tmp_contents FROM STDIN\") as copy:\n",
    "            for i, data in enumerate(log_raw[\"contents\"]):\n",
    "                copy.write_row((i, data))\n",
    "        cur.execute(\"INSERT INTO contents(path) SELECT path FROM tmp_contents ON CONFLICT DO NOTHING\")\n",
    "    except BaseException as e:\n",
    "        conn.rollback()\n",
    "        print(e)\n",
    "    else:\n",
    "        conn.commit()"
   ]
  },
  {
   "cell_type": "code",
   "execution_count": 16,
   "metadata": {},
   "outputs": [],
   "source": [
    "with conn.cursor() as cur:\n",
    "    cur.execute(\"select contents_key, path from contents\")\n",
    "    contents_dict = {key : value for value, key in cur.fetchall()}\n",
    "    visit_df[\"contents_key\"] = log_raw[\"contents\"].map(lambda x: contents_dict[x])"
   ]
  },
  {
   "cell_type": "code",
   "execution_count": 17,
   "metadata": {},
   "outputs": [
    {
     "data": {
      "text/html": [
       "<div>\n",
       "<style scoped>\n",
       "    .dataframe tbody tr th:only-of-type {\n",
       "        vertical-align: middle;\n",
       "    }\n",
       "\n",
       "    .dataframe tbody tr th {\n",
       "        vertical-align: top;\n",
       "    }\n",
       "\n",
       "    .dataframe thead th {\n",
       "        text-align: right;\n",
       "    }\n",
       "</style>\n",
       "<table border=\"1\" class=\"dataframe\">\n",
       "  <thead>\n",
       "    <tr style=\"text-align: right;\">\n",
       "      <th></th>\n",
       "      <th>method</th>\n",
       "      <th>status</th>\n",
       "      <th>size</th>\n",
       "      <th>client_key</th>\n",
       "      <th>contents_key</th>\n",
       "    </tr>\n",
       "  </thead>\n",
       "  <tbody>\n",
       "    <tr>\n",
       "      <th>0</th>\n",
       "      <td>GET</td>\n",
       "      <td>200</td>\n",
       "      <td>743</td>\n",
       "      <td>1</td>\n",
       "      <td>1</td>\n",
       "    </tr>\n",
       "    <tr>\n",
       "      <th>1</th>\n",
       "      <td>GET</td>\n",
       "      <td>200</td>\n",
       "      <td>1705</td>\n",
       "      <td>2</td>\n",
       "      <td>2</td>\n",
       "    </tr>\n",
       "    <tr>\n",
       "      <th>2</th>\n",
       "      <td>GET</td>\n",
       "      <td>200</td>\n",
       "      <td>291</td>\n",
       "      <td>3</td>\n",
       "      <td>3</td>\n",
       "    </tr>\n",
       "    <tr>\n",
       "      <th>3</th>\n",
       "      <td>GET</td>\n",
       "      <td>200</td>\n",
       "      <td>6389</td>\n",
       "      <td>4</td>\n",
       "      <td>4</td>\n",
       "    </tr>\n",
       "    <tr>\n",
       "      <th>4</th>\n",
       "      <td>GET</td>\n",
       "      <td>200</td>\n",
       "      <td>3900</td>\n",
       "      <td>5</td>\n",
       "      <td>5</td>\n",
       "    </tr>\n",
       "  </tbody>\n",
       "</table>\n",
       "</div>"
      ],
      "text/plain": [
       "  method status  size  client_key  contents_key\n",
       "0    GET    200   743           1             1\n",
       "1    GET    200  1705           2             2\n",
       "2    GET    200   291           3             3\n",
       "3    GET    200  6389           4             4\n",
       "4    GET    200  3900           5             5"
      ]
     },
     "execution_count": 17,
     "metadata": {},
     "output_type": "execute_result"
    }
   ],
   "source": [
    "visit_df.head()"
   ]
  },
  {
   "cell_type": "markdown",
   "metadata": {},
   "source": [
    "# USER AGENT "
   ]
  },
  {
   "cell_type": "code",
   "execution_count": 18,
   "metadata": {},
   "outputs": [],
   "source": [
    "from user_agents import parse"
   ]
  },
  {
   "cell_type": "code",
   "execution_count": 19,
   "metadata": {},
   "outputs": [],
   "source": [
    "def parse_ua(ua):\n",
    "    parsed_ua = parse(ua)\n",
    "    return parsed_ua.browser.family, parsed_ua.os.family"
   ]
  },
  {
   "cell_type": "code",
   "execution_count": 20,
   "metadata": {},
   "outputs": [],
   "source": [
    "ua_df = log_raw.apply(lambda x: parse_ua(x[\"ua\"]), result_type = \"expand\", axis = 1)"
   ]
  },
  {
   "cell_type": "code",
   "execution_count": 21,
   "metadata": {},
   "outputs": [],
   "source": [
    "ua_df.rename(columns = {0: \"browser\", 1: \"os\"}, inplace = True)"
   ]
  },
  {
   "cell_type": "markdown",
   "metadata": {},
   "source": [
    "## browser "
   ]
  },
  {
   "cell_type": "code",
   "execution_count": 22,
   "metadata": {},
   "outputs": [],
   "source": [
    "with conn.cursor() as cur:\n",
    "    try:\n",
    "        cur.execute(\"CREATE TEMPORARY TABLE tmp_browser (id int, name varchar(255)) ON COMMIT DROP\")\n",
    "        with cur.copy(\"COPY tmp_browser FROM STDIN\") as copy:\n",
    "            for i, data in enumerate(ua_df[\"browser\"]):\n",
    "                copy.write_row((i, data))\n",
    "        cur.execute(\"INSERT INTO browser(name) SELECT name FROM tmp_browser ON CONFLICT DO NOTHING\")\n",
    "    except BaseException as e:\n",
    "        conn.rollback()\n",
    "        print(e)\n",
    "    else:\n",
    "        conn.commit()"
   ]
  },
  {
   "cell_type": "code",
   "execution_count": 23,
   "metadata": {},
   "outputs": [],
   "source": [
    "with conn.cursor() as cur:\n",
    "    cur.execute(\"select browser_key, name from browser\")\n",
    "    browser_dict = {key : value for value, key in cur.fetchall()}\n",
    "    visit_df[\"browser_key\"] = ua_df[\"browser\"].map(lambda x: browser_dict[x])"
   ]
  },
  {
   "cell_type": "code",
   "execution_count": 24,
   "metadata": {},
   "outputs": [
    {
     "data": {
      "text/html": [
       "<div>\n",
       "<style scoped>\n",
       "    .dataframe tbody tr th:only-of-type {\n",
       "        vertical-align: middle;\n",
       "    }\n",
       "\n",
       "    .dataframe tbody tr th {\n",
       "        vertical-align: top;\n",
       "    }\n",
       "\n",
       "    .dataframe thead th {\n",
       "        text-align: right;\n",
       "    }\n",
       "</style>\n",
       "<table border=\"1\" class=\"dataframe\">\n",
       "  <thead>\n",
       "    <tr style=\"text-align: right;\">\n",
       "      <th></th>\n",
       "      <th>method</th>\n",
       "      <th>status</th>\n",
       "      <th>size</th>\n",
       "      <th>client_key</th>\n",
       "      <th>contents_key</th>\n",
       "      <th>browser_key</th>\n",
       "    </tr>\n",
       "  </thead>\n",
       "  <tbody>\n",
       "    <tr>\n",
       "      <th>0</th>\n",
       "      <td>GET</td>\n",
       "      <td>200</td>\n",
       "      <td>743</td>\n",
       "      <td>1</td>\n",
       "      <td>1</td>\n",
       "      <td>1</td>\n",
       "    </tr>\n",
       "    <tr>\n",
       "      <th>1</th>\n",
       "      <td>GET</td>\n",
       "      <td>200</td>\n",
       "      <td>1705</td>\n",
       "      <td>2</td>\n",
       "      <td>2</td>\n",
       "      <td>1</td>\n",
       "    </tr>\n",
       "    <tr>\n",
       "      <th>2</th>\n",
       "      <td>GET</td>\n",
       "      <td>200</td>\n",
       "      <td>291</td>\n",
       "      <td>3</td>\n",
       "      <td>3</td>\n",
       "      <td>3</td>\n",
       "    </tr>\n",
       "    <tr>\n",
       "      <th>3</th>\n",
       "      <td>GET</td>\n",
       "      <td>200</td>\n",
       "      <td>6389</td>\n",
       "      <td>4</td>\n",
       "      <td>4</td>\n",
       "      <td>4</td>\n",
       "    </tr>\n",
       "    <tr>\n",
       "      <th>4</th>\n",
       "      <td>GET</td>\n",
       "      <td>200</td>\n",
       "      <td>3900</td>\n",
       "      <td>5</td>\n",
       "      <td>5</td>\n",
       "      <td>5</td>\n",
       "    </tr>\n",
       "  </tbody>\n",
       "</table>\n",
       "</div>"
      ],
      "text/plain": [
       "  method status  size  client_key  contents_key  browser_key\n",
       "0    GET    200   743           1             1            1\n",
       "1    GET    200  1705           2             2            1\n",
       "2    GET    200   291           3             3            3\n",
       "3    GET    200  6389           4             4            4\n",
       "4    GET    200  3900           5             5            5"
      ]
     },
     "execution_count": 24,
     "metadata": {},
     "output_type": "execute_result"
    }
   ],
   "source": [
    "visit_df.head()"
   ]
  },
  {
   "cell_type": "markdown",
   "metadata": {},
   "source": [
    "##  os"
   ]
  },
  {
   "cell_type": "code",
   "execution_count": 25,
   "metadata": {},
   "outputs": [],
   "source": [
    "with conn.cursor() as cur:\n",
    "    try:\n",
    "        cur.execute(\"CREATE TEMPORARY TABLE tmp_os (id int, name varchar(255)) ON COMMIT DROP\")\n",
    "        with cur.copy(\"COPY tmp_os FROM STDIN\") as copy:\n",
    "            for i, data in enumerate(ua_df[\"os\"]):\n",
    "                copy.write_row((i, data))\n",
    "        cur.execute(\"INSERT INTO os(name) SELECT name FROM tmp_os ON CONFLICT DO NOTHING\")\n",
    "    except BaseException as e:\n",
    "        conn.rollback()\n",
    "        print(e)\n",
    "    else:\n",
    "        conn.commit()"
   ]
  },
  {
   "cell_type": "code",
   "execution_count": 26,
   "metadata": {},
   "outputs": [],
   "source": [
    "with conn.cursor() as cur:\n",
    "    cur.execute(\"select os_key, name from os\")\n",
    "    os_dict = {key : value for value, key in cur.fetchall()}\n",
    "    visit_df[\"os_key\"] = ua_df[\"os\"].map(lambda x: os_dict[x])"
   ]
  },
  {
   "cell_type": "code",
   "execution_count": 27,
   "metadata": {},
   "outputs": [
    {
     "data": {
      "text/html": [
       "<div>\n",
       "<style scoped>\n",
       "    .dataframe tbody tr th:only-of-type {\n",
       "        vertical-align: middle;\n",
       "    }\n",
       "\n",
       "    .dataframe tbody tr th {\n",
       "        vertical-align: top;\n",
       "    }\n",
       "\n",
       "    .dataframe thead th {\n",
       "        text-align: right;\n",
       "    }\n",
       "</style>\n",
       "<table border=\"1\" class=\"dataframe\">\n",
       "  <thead>\n",
       "    <tr style=\"text-align: right;\">\n",
       "      <th></th>\n",
       "      <th>method</th>\n",
       "      <th>status</th>\n",
       "      <th>size</th>\n",
       "      <th>client_key</th>\n",
       "      <th>contents_key</th>\n",
       "      <th>browser_key</th>\n",
       "      <th>os_key</th>\n",
       "    </tr>\n",
       "  </thead>\n",
       "  <tbody>\n",
       "    <tr>\n",
       "      <th>0</th>\n",
       "      <td>GET</td>\n",
       "      <td>200</td>\n",
       "      <td>743</td>\n",
       "      <td>1</td>\n",
       "      <td>1</td>\n",
       "      <td>1</td>\n",
       "      <td>1</td>\n",
       "    </tr>\n",
       "    <tr>\n",
       "      <th>1</th>\n",
       "      <td>GET</td>\n",
       "      <td>200</td>\n",
       "      <td>1705</td>\n",
       "      <td>2</td>\n",
       "      <td>2</td>\n",
       "      <td>1</td>\n",
       "      <td>2</td>\n",
       "    </tr>\n",
       "    <tr>\n",
       "      <th>2</th>\n",
       "      <td>GET</td>\n",
       "      <td>200</td>\n",
       "      <td>291</td>\n",
       "      <td>3</td>\n",
       "      <td>3</td>\n",
       "      <td>3</td>\n",
       "      <td>3</td>\n",
       "    </tr>\n",
       "    <tr>\n",
       "      <th>3</th>\n",
       "      <td>GET</td>\n",
       "      <td>200</td>\n",
       "      <td>6389</td>\n",
       "      <td>4</td>\n",
       "      <td>4</td>\n",
       "      <td>4</td>\n",
       "      <td>1</td>\n",
       "    </tr>\n",
       "    <tr>\n",
       "      <th>4</th>\n",
       "      <td>GET</td>\n",
       "      <td>200</td>\n",
       "      <td>3900</td>\n",
       "      <td>5</td>\n",
       "      <td>5</td>\n",
       "      <td>5</td>\n",
       "      <td>1</td>\n",
       "    </tr>\n",
       "  </tbody>\n",
       "</table>\n",
       "</div>"
      ],
      "text/plain": [
       "  method status  size  client_key  contents_key  browser_key  os_key\n",
       "0    GET    200   743           1             1            1       1\n",
       "1    GET    200  1705           2             2            1       2\n",
       "2    GET    200   291           3             3            3       3\n",
       "3    GET    200  6389           4             4            4       1\n",
       "4    GET    200  3900           5             5            5       1"
      ]
     },
     "execution_count": 27,
     "metadata": {},
     "output_type": "execute_result"
    }
   ],
   "source": [
    "visit_df.head()"
   ]
  },
  {
   "cell_type": "markdown",
   "metadata": {},
   "source": [
    "# TIME"
   ]
  },
  {
   "cell_type": "code",
   "execution_count": 28,
   "metadata": {},
   "outputs": [],
   "source": [
    "time_series = pd.to_datetime(log_raw[\"time\"], format='%Y-%m-%d %H:%M:%S', exact=False)"
   ]
  },
  {
   "cell_type": "code",
   "execution_count": 29,
   "metadata": {},
   "outputs": [],
   "source": [
    "time_df = pd.DataFrame()"
   ]
  },
  {
   "cell_type": "code",
   "execution_count": 30,
   "metadata": {},
   "outputs": [],
   "source": [
    "time_df[\"date\"] = time_series.map(lambda x: x.date())\n",
    "time_df[\"day\"] = time_series.map(lambda x: x.day)\n",
    "time_df[\"weekday\"] = time_series.map(lambda x: x.weekday())\n",
    "time_df[\"month\"] = time_series.map(lambda x: x.month)\n",
    "time_df[\"year\"] = time_series.map(lambda x: x.year)\n",
    "time_df[\"hour\"] = time_series.map(lambda x: x.hour)\n",
    "time_df[\"minute\"] = time_series.map(lambda x: x.minute)\n",
    "time_df[\"second\"] = time_series.map(lambda x: x.second)"
   ]
  },
  {
   "cell_type": "code",
   "execution_count": 31,
   "metadata": {},
   "outputs": [],
   "source": [
    "time_df[\"time_key\"] = time_df.apply(lambda x: \"%04d%02d%02d%02d%02d%02d\" %(x[\"year\"],\n",
    "                                                                              x[\"month\"],\n",
    "                                                                              x[\"day\"],\n",
    "                                                                              x[\"hour\"],\n",
    "                                                                              x[\"minute\"],\n",
    "                                                                              x[\"second\"]),\n",
    "                                   axis = 1)"
   ]
  },
  {
   "cell_type": "code",
   "execution_count": 32,
   "metadata": {},
   "outputs": [],
   "source": [
    "visit_df[\"time_key\"] = time_df[\"time_key\"]"
   ]
  },
  {
   "cell_type": "code",
   "execution_count": 35,
   "metadata": {},
   "outputs": [],
   "source": [
    "with conn.cursor() as cur:\n",
    "    try:\n",
    "        cur.execute(\"CREATE TEMPORARY TABLE tmp_time (like time) ON COMMIT DROP\")\n",
    "        with cur.copy(\"COPY tmp_time(date, day, weekday, month, year, hour, minute, second, time_key) FROM STDIN\") as copy:\n",
    "            pre = \"\"\n",
    "            for data in time_df.itertuples():\n",
    "                if pre == data[-1]:\n",
    "                    continue\n",
    "                else:\n",
    "                    copy.write_row(data[1:])\n",
    "                    pre = data[-1]\n",
    "        cur.execute(\"INSERT INTO time SELECT * FROM tmp_time ON CONFLICT DO NOTHING\")\n",
    "    except BaseException as e:\n",
    "        conn.rollback()\n",
    "        print(e)\n",
    "    else:\n",
    "        conn.commit()"
   ]
  },
  {
   "cell_type": "code",
   "execution_count": 36,
   "metadata": {},
   "outputs": [
    {
     "data": {
      "text/html": [
       "<div>\n",
       "<style scoped>\n",
       "    .dataframe tbody tr th:only-of-type {\n",
       "        vertical-align: middle;\n",
       "    }\n",
       "\n",
       "    .dataframe tbody tr th {\n",
       "        vertical-align: top;\n",
       "    }\n",
       "\n",
       "    .dataframe thead th {\n",
       "        text-align: right;\n",
       "    }\n",
       "</style>\n",
       "<table border=\"1\" class=\"dataframe\">\n",
       "  <thead>\n",
       "    <tr style=\"text-align: right;\">\n",
       "      <th></th>\n",
       "      <th>method</th>\n",
       "      <th>status</th>\n",
       "      <th>size</th>\n",
       "      <th>client_key</th>\n",
       "      <th>contents_key</th>\n",
       "      <th>browser_key</th>\n",
       "      <th>os_key</th>\n",
       "      <th>time_key</th>\n",
       "    </tr>\n",
       "  </thead>\n",
       "  <tbody>\n",
       "    <tr>\n",
       "      <th>0</th>\n",
       "      <td>GET</td>\n",
       "      <td>200</td>\n",
       "      <td>743</td>\n",
       "      <td>1</td>\n",
       "      <td>1</td>\n",
       "      <td>1</td>\n",
       "      <td>1</td>\n",
       "      <td>19970411000000</td>\n",
       "    </tr>\n",
       "    <tr>\n",
       "      <th>1</th>\n",
       "      <td>GET</td>\n",
       "      <td>200</td>\n",
       "      <td>1705</td>\n",
       "      <td>2</td>\n",
       "      <td>2</td>\n",
       "      <td>1</td>\n",
       "      <td>2</td>\n",
       "      <td>19970411000001</td>\n",
       "    </tr>\n",
       "    <tr>\n",
       "      <th>2</th>\n",
       "      <td>GET</td>\n",
       "      <td>200</td>\n",
       "      <td>291</td>\n",
       "      <td>3</td>\n",
       "      <td>3</td>\n",
       "      <td>3</td>\n",
       "      <td>3</td>\n",
       "      <td>19970411000002</td>\n",
       "    </tr>\n",
       "    <tr>\n",
       "      <th>3</th>\n",
       "      <td>GET</td>\n",
       "      <td>200</td>\n",
       "      <td>6389</td>\n",
       "      <td>4</td>\n",
       "      <td>4</td>\n",
       "      <td>4</td>\n",
       "      <td>1</td>\n",
       "      <td>19970411000003</td>\n",
       "    </tr>\n",
       "    <tr>\n",
       "      <th>4</th>\n",
       "      <td>GET</td>\n",
       "      <td>200</td>\n",
       "      <td>3900</td>\n",
       "      <td>5</td>\n",
       "      <td>5</td>\n",
       "      <td>5</td>\n",
       "      <td>1</td>\n",
       "      <td>19970411000004</td>\n",
       "    </tr>\n",
       "  </tbody>\n",
       "</table>\n",
       "</div>"
      ],
      "text/plain": [
       "  method status  size  client_key  contents_key  browser_key  os_key  \\\n",
       "0    GET    200   743           1             1            1       1   \n",
       "1    GET    200  1705           2             2            1       2   \n",
       "2    GET    200   291           3             3            3       3   \n",
       "3    GET    200  6389           4             4            4       1   \n",
       "4    GET    200  3900           5             5            5       1   \n",
       "\n",
       "         time_key  \n",
       "0  19970411000000  \n",
       "1  19970411000001  \n",
       "2  19970411000002  \n",
       "3  19970411000003  \n",
       "4  19970411000004  "
      ]
     },
     "execution_count": 36,
     "metadata": {},
     "output_type": "execute_result"
    }
   ],
   "source": [
    "visit_df.head()"
   ]
  },
  {
   "cell_type": "markdown",
   "metadata": {},
   "source": [
    "# VISIT"
   ]
  },
  {
   "cell_type": "code",
   "execution_count": 37,
   "metadata": {},
   "outputs": [],
   "source": [
    "with conn.cursor() as cur:\n",
    "    try:\n",
    "        with cur.copy(\"COPY visit(method, status, size, client_key, contents_key, browser_key, os_key, time_key) FROM STDIN\") as copy:\n",
    "            for data in visit_df.itertuples():\n",
    "                copy.write_row(data[1:])\n",
    "    except BaseException as e:\n",
    "        conn.rollback()\n",
    "        print(e)\n",
    "    else:\n",
    "        conn.commit()"
   ]
  },
  {
   "cell_type": "markdown",
   "metadata": {},
   "source": [
    "# 조회"
   ]
  },
  {
   "cell_type": "code",
   "execution_count": 38,
   "metadata": {},
   "outputs": [
    {
     "name": "stdout",
     "output_type": "stream",
     "text": [
      "[(datetime.date(1997, 4, 11), '8.136.30.91', 'GET', 200, 743, 'Windows', 'Opera', '/m/c.html')]\n"
     ]
    }
   ],
   "source": [
    "query = \"\"\"select t.date, cl.host, v.method, v.status, v.size, o.name, b.name, co.path from visit v, time t, browser b, os o, contents co, client cl\n",
    "where v.client_key = cl.client_key and v.contents_key = co.contents_key and\n",
    "v.time_key = t.time_key and v.os_key = o.os_key and v.browser_key = b.browser_key\n",
    "limit 1\"\"\"\n",
    "with conn.cursor() as cur:\n",
    "    cur.execute(query)\n",
    "    print(cur.fetchall())\n",
    "conn.close()"
   ]
  },
  {
   "cell_type": "markdown",
   "metadata": {},
   "source": [
    "visit 테이블 1행의 데이터를 조회하는 간단한 쿼리입니다. 디멘션 테이블과의 조인으로 정보를 취합할 수 있습니다."
   ]
  }
 ],
 "metadata": {
  "kernelspec": {
   "display_name": "Python 3",
   "language": "python",
   "name": "python3"
  },
  "language_info": {
   "codemirror_mode": {
    "name": "ipython",
    "version": 3
   },
   "file_extension": ".py",
   "mimetype": "text/x-python",
   "name": "python",
   "nbconvert_exporter": "python",
   "pygments_lexer": "ipython3",
   "version": "3.8.5"
  }
 },
 "nbformat": 4,
 "nbformat_minor": 4
}
